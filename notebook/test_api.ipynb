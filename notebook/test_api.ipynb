{
 "cells": [
  {
   "cell_type": "code",
   "execution_count": 2,
   "metadata": {},
   "outputs": [],
   "source": [
    "import os\n",
    "import time\n",
    "import hashlib\n",
    "import hmac\n",
    "import base64\n",
    "import uuid\n",
    "\n",
    "from dotenv import load_dotenv\n",
    "from pprint import pprint\n",
    "import requests"
   ]
  },
  {
   "cell_type": "code",
   "execution_count": 3,
   "metadata": {},
   "outputs": [
    {
     "data": {
      "text/plain": [
       "True"
      ]
     },
     "execution_count": 3,
     "metadata": {},
     "output_type": "execute_result"
    }
   ],
   "source": [
    "load_dotenv('../src/.env')"
   ]
  },
  {
   "cell_type": "code",
   "execution_count": 4,
   "metadata": {},
   "outputs": [],
   "source": [
    "secret = os.getenv('SWITCHBOT_SECRET')\n",
    "token  = os.getenv('SWITCHBOT_TOKEN')"
   ]
  },
  {
   "cell_type": "code",
   "execution_count": null,
   "metadata": {},
   "outputs": [],
   "source": [
    "# Declare empty header dictionary\n",
    "api_header = {}\n",
    "\n",
    "nonce = uuid.uuid4()\n",
    "t = int(round(time.time() * 1000))\n",
    "string_to_sign = '{}{}{}'.format(token, t, nonce)\n",
    "\n",
    "string_to_sign = bytes(string_to_sign, 'utf-8')\n",
    "secret = bytes(secret, 'utf-8')\n",
    "\n",
    "sign = base64.b64encode(hmac.new(secret, msg=string_to_sign, digestmod=hashlib.sha256).digest())\n",
    "print ('Authorization: {}'.format(token))\n",
    "print ('t: {}'.format(t))\n",
    "print ('sign: {}'.format(str(sign, 'utf-8')))\n",
    "print ('nonce: {}'.format(nonce))\n",
    "\n",
    "#Build api header JSON\n",
    "api_header['Authorization']=token\n",
    "api_header['Content-Type']='application/json'\n",
    "api_header['charset']='utf8'\n",
    "api_header['t']=str(t)\n",
    "api_header['sign']=str(sign, 'utf-8')\n",
    "api_header['nonce']=str(nonce)"
   ]
  },
  {
   "cell_type": "code",
   "execution_count": 6,
   "metadata": {},
   "outputs": [
    {
     "name": "stdout",
     "output_type": "stream",
     "text": [
      "{'body': {'deviceList': [], 'infraredRemoteList': []},\n",
      " 'message': 'success',\n",
      " 'statusCode': 100}\n"
     ]
    }
   ],
   "source": [
    "url = 'https://api.switch-bot.com/v1.1/devices'\n",
    "response = (\n",
    "    requests.get(\n",
    "        url=url,\n",
    "        headers=api_header\n",
    "    )\n",
    ")\n",
    "pprint(response.json())"
   ]
  }
 ],
 "metadata": {
  "kernelspec": {
   "display_name": "kit_lab_smart_lock",
   "language": "python",
   "name": "python3"
  },
  "language_info": {
   "codemirror_mode": {
    "name": "ipython",
    "version": 3
   },
   "file_extension": ".py",
   "mimetype": "text/x-python",
   "name": "python",
   "nbconvert_exporter": "python",
   "pygments_lexer": "ipython3",
   "version": "3.11.4"
  }
 },
 "nbformat": 4,
 "nbformat_minor": 2
}
